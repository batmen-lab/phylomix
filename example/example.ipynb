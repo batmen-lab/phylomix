{
 "cells": [
  {
   "cell_type": "markdown",
   "metadata": {},
   "source": [
    "# Example of Phylomix augmentation"
   ]
  },
  {
   "cell_type": "markdown",
   "metadata": {},
   "source": [
    "### Import required packages"
   ]
  },
  {
   "cell_type": "code",
   "execution_count": 1,
   "metadata": {},
   "outputs": [
    {
     "name": "stdout",
     "output_type": "stream",
     "text": [
      "number of leaves in the phylogeny tree:  15953\n"
     ]
    }
   ],
   "source": [
    "import sys\n",
    "sys.path.insert(1, '../src/')\n",
    "\n",
    "\n",
    "from data import PhylogenyTree, PhylogenyDataset\n",
    "from ete4 import Tree\n",
    "from mixup import Mixup\n",
    "dataset = \"alzbiom\"\n",
    "target = \"ad\"\n",
    "\n",
    "data_fp = f'../data/{dataset}/data.tsv.xz'\n",
    "meta_fp = f'../data/{dataset}/meta.tsv'\n",
    "target_fp = f'../data/{dataset}/{target}.py'\n",
    "\n",
    "phylogeny_tree_fp = '../data/WoL2/phylogeny.nwk'\n",
    "tree = PhylogenyTree.init_from_nwk(phylogeny_tree_fp)\n",
    "data = PhylogenyDataset.init_from_files(data_fp, meta_fp, target_fp)\n",
    "print(\"number of leaves in the phylogeny tree: \", len(list(tree.ete_tree.leaves())))"
   ]
  },
  {
   "cell_type": "markdown",
   "metadata": {},
   "source": [
    "### Pruning the Phylogeny tree to make sure number of leaves is the same as number of features"
   ]
  },
  {
   "cell_type": "code",
   "execution_count": 2,
   "metadata": {},
   "outputs": [
    {
     "name": "stdout",
     "output_type": "stream",
     "text": [
      "number of leaves in the phylogeny tree after pruning:  8350\n"
     ]
    }
   ],
   "source": [
    "data = PhylogenyDataset.init_from_files(data_fp, meta_fp, target_fp)\n",
    "tree.prune(data.features)\n",
    "print(\"number of leaves in the phylogeny tree after pruning: \", len(list(tree.ete_tree.leaves())))"
   ]
  },
  {
   "cell_type": "markdown",
   "metadata": {},
   "source": [
    "### Fit a logistic regression on the alzbiom dataset"
   ]
  },
  {
   "cell_type": "code",
   "execution_count": 8,
   "metadata": {},
   "outputs": [
    {
     "name": "stdout",
     "output_type": "stream",
     "text": [
      "Average AUROC across 5 folds: 0.6679730327218607\n",
      "Average AUPRC across 5 folds: 0.6388010371968438\n"
     ]
    }
   ],
   "source": [
    "import numpy as np\n",
    "from sklearn.model_selection import KFold\n",
    "from sklearn.linear_model import LogisticRegression\n",
    "from sklearn.metrics import roc_auc_score, average_precision_score\n",
    "from sklearn.preprocessing import label_binarize\n",
    "import warnings\n",
    "from sklearn.exceptions import ConvergenceWarning\n",
    "data = PhylogenyDataset.init_from_files(data_fp, meta_fp, target_fp)\n",
    "# Assuming X and y are your features and labels respectively\n",
    "# Ignore convergence warnings\n",
    "warnings.filterwarnings(\"ignore\", category=ConvergenceWarning)\n",
    "data.clr_transform()\n",
    "X, y = data.X, data.y\n",
    "\n",
    "# Initialize the logistic regression model\n",
    "model = LogisticRegression()\n",
    "\n",
    "# Initialize the KFold class with 5 splits\n",
    "kf = KFold(n_splits=5, shuffle=True, random_state=1)\n",
    "\n",
    "# To store the AUROC and AUPRC for each fold\n",
    "auroc_scores = []\n",
    "auprc_scores = []\n",
    "\n",
    "# Perform 5-fold cross-validation\n",
    "for train_index, test_index in kf.split(X):\n",
    "    X_train, X_test = X[train_index], X[test_index]\n",
    "    y_train, y_test = y[train_index], y[test_index]\n",
    "    \n",
    "\n",
    "    model.fit(X_train, y_train)\n",
    "    y_prob = model.predict_proba(X_test)[:, 1]\n",
    "    \n",
    "    auroc = roc_auc_score(y_test, y_prob)\n",
    "    auroc_scores.append(auroc)\n",
    "    \n",
    "    auprc = average_precision_score(y_test, y_prob)\n",
    "    auprc_scores.append(auprc)\n",
    "\n",
    "average_auroc = np.mean(auroc_scores)\n",
    "average_auprc = np.mean(auprc_scores)\n",
    "\n",
    "print(f'Average AUROC across 5 folds: {average_auroc}')\n",
    "print(f'Average AUPRC across 5 folds: {average_auprc}')\n"
   ]
  },
  {
   "cell_type": "markdown",
   "metadata": {},
   "source": [
    "### Augment the dataset using Phylomix"
   ]
  },
  {
   "cell_type": "code",
   "execution_count": 13,
   "metadata": {},
   "outputs": [],
   "source": [
    "data = PhylogenyDataset.init_from_files(data_fp, meta_fp, target_fp)\n",
    "data.one_hot_encode()\n",
    "mixup = Mixup(data, taxonomy_tree=None, phylogeny_tree=tree)\n",
    "augmented_data = mixup.mixup(num_samples = 3 * len(data.X), method='phylomix', alpha=2.0, tree='phylogeny')\n",
    "augmented_data.clr_transform()"
   ]
  },
  {
   "cell_type": "code",
   "execution_count": 14,
   "metadata": {},
   "outputs": [
    {
     "name": "stdout",
     "output_type": "stream",
     "text": [
      "Average AUROC across 5 folds: 0.930143569373171\n",
      "Average AUPRC across 5 folds: 0.8781954884367587\n"
     ]
    }
   ],
   "source": [
    "from sklearn.linear_model import LinearRegression   \n",
    " # Initialize the KFold class\n",
    "n_splits = 5\n",
    "kf = KFold(n_splits=n_splits, shuffle=True, random_state=1)\n",
    "X, y = augmented_data.X, augmented_data.y\n",
    "# Initialize lists to store AUROC and AUPRC scores\n",
    "auroc_scores = []\n",
    "auprc_scores = []\n",
    "\n",
    "# Perform K-fold cross-validation\n",
    "for train_index, test_index in kf.split(X):\n",
    "    X_train, X_test = X[train_index], X[test_index]\n",
    "    y_train, y_test = y[train_index], y[test_index]\n",
    "\n",
    "    # Fit a linear regression model to predict the first label (y[:, 0])\n",
    "    model = LinearRegression()\n",
    "    model.fit(X_train, y_train[:, 0])\n",
    "\n",
    "    # Predict the first label\n",
    "    y_pred_first =np.array(model.predict(X_test)).reshape(-1, 1)\n",
    "\n",
    "    # Recover the second label as 1 - predicted first label\n",
    "    y_pred_second = 1 - y_pred_first\n",
    "    pred_logits = np.concatenate((y_pred_first, y_pred_second), axis=1)\n",
    "\n",
    "    # Since we're dealing with binary labels, we only need to evaluate one label (y[:, 0])\n",
    "    # Calculate AUROC and AUPRC for the first label\n",
    "    auroc = roc_auc_score(np.argmax(y_test, axis=1), np.argmax(pred_logits, axis=1))\n",
    "    auprc = average_precision_score(np.argmax(y_test, axis=1), np.argmax(pred_logits, axis=1))\n",
    "\n",
    "    auroc_scores.append(auroc)\n",
    "    auprc_scores.append(auprc)\n",
    "\n",
    "# Calculate the average AUROC and AUPRC across all folds\n",
    "average_auroc = np.mean(auroc_scores)\n",
    "average_auprc = np.mean(auprc_scores)\n",
    "\n",
    "print(f'Average AUROC across {n_splits} folds: {average_auroc}')\n",
    "print(f'Average AUPRC across {n_splits} folds: {average_auprc}')\n"
   ]
  }
 ],
 "metadata": {
  "kernelspec": {
   "display_name": "mic_aug",
   "language": "python",
   "name": "python3"
  },
  "language_info": {
   "codemirror_mode": {
    "name": "ipython",
    "version": 3
   },
   "file_extension": ".py",
   "mimetype": "text/x-python",
   "name": "python",
   "nbconvert_exporter": "python",
   "pygments_lexer": "ipython3",
   "version": "3.11.5"
  }
 },
 "nbformat": 4,
 "nbformat_minor": 2
}
